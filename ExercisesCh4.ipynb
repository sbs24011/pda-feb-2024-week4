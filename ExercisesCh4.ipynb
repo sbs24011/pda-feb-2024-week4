{
 "cells": [
  {
   "cell_type": "markdown",
   "id": "5d8a4f6e",
   "metadata": {},
   "source": [
    "## CHAPTER 4. FUNCTIONS\n",
    "\n",
    "4.14 Exercises\n",
    "Exercise 4: What is the purpose of the “def” keyword in Python?\n",
    "a) It is slang that means “the following code is really cool”\n",
    "b) It indicates the start of a function\n",
    "c) It indicates that the following indented section of code is to be stored for later\n",
    "d) b and c are both true\n",
    "e) None of the above\n",
    "\n",
    "d - b and c are correct"
   ]
  },
  {
   "cell_type": "code",
   "execution_count": null,
   "id": "6a386766",
   "metadata": {},
   "outputs": [],
   "source": []
  },
  {
   "cell_type": "markdown",
   "id": "76c0fc7c",
   "metadata": {},
   "source": [
    "Exercise 5: What will the following Python program print out?\n",
    "def fred():\n",
    "print(\"Zap\")\n",
    "def jane():\n",
    "print(\"ABC\")\n",
    "jane()\n",
    "fred()\n",
    "jane()\n",
    "a) Zap ABC jane fred jane\n",
    "b) Zap ABC Zap\n",
    "c) ABC Zap jane\n",
    "d) ABC Zap ABC\n",
    "e) Zap Zap Zap"
   ]
  },
  {
   "cell_type": "code",
   "execution_count": 2,
   "id": "77ae2f5a",
   "metadata": {},
   "outputs": [
    {
     "name": "stdout",
     "output_type": "stream",
     "text": [
      "ABC\n",
      "Zap\n",
      "ABC\n"
     ]
    }
   ],
   "source": [
    "def fred():\n",
    "    print(\"Zap\")\n",
    "def jane():\n",
    "    print(\"ABC\")\n",
    "    \n",
    "jane()\n",
    "fred()\n",
    "jane()\n",
    "\n",
    "#ABC\n",
    "#ZAP\n",
    "#ABC\n"
   ]
  },
  {
   "cell_type": "markdown",
   "id": "14850203",
   "metadata": {},
   "source": [
    "Exercise 6: Rewrite your pay computation with time-and-a-half for overtime and create a function called computepay which takes two parameters\n",
    "(hours and rate).\n",
    "Enter Hours: 45\n",
    "Enter Rate: 10\n",
    "Pay: 475.0"
   ]
  },
  {
   "cell_type": "code",
   "execution_count": 3,
   "id": "ebc7f581",
   "metadata": {},
   "outputs": [
    {
     "name": "stdin",
     "output_type": "stream",
     "text": [
      "Please enter your hours 45\n",
      "Please enter your rate 10\n"
     ]
    },
    {
     "name": "stdout",
     "output_type": "stream",
     "text": [
      "Your pay is: 475.0\n"
     ]
    }
   ],
   "source": [
    "def computepay():\n",
    "    try:\n",
    "        hours = float(input(\"Please enter your hours\"))\n",
    "        rate = float(input(\"Please enter your rate\"))\n",
    "        if hours > 40:\n",
    "            pay = (hours-40)*1.5*rate + 40*rate\n",
    "        else:\n",
    "            pay = hours * rate\n",
    "    \n",
    "        print(f\"Your pay is: {pay}\")\n",
    "    except:\n",
    "        print(\"The inputs must be numeric values\")\n",
    "\n",
    "computepay()"
   ]
  },
  {
   "cell_type": "code",
   "execution_count": 9,
   "id": "c2dd4c44-ab1a-410d-9082-55514b7a2ea1",
   "metadata": {},
   "outputs": [],
   "source": [
    "####better - just compile the function\n",
    "def compute_pay(hours, rate):\n",
    "    try:\n",
    "        hours = float(hours)\n",
    "        rate = float(rate)\n",
    "        if hours > 40:\n",
    "            pay = (hours-40)*1.5*rate + 40*rate\n",
    "        else:\n",
    "            pay = hours * rate\n",
    "    \n",
    "        print(f\"Your pay is: {pay}\")\n",
    "    except:\n",
    "        print(\"The inputs must be numeric values\")"
   ]
  },
  {
   "cell_type": "code",
   "execution_count": 10,
   "id": "2e7dbbf8-493a-4c36-b7fa-c2ade24c5e84",
   "metadata": {},
   "outputs": [
    {
     "name": "stdout",
     "output_type": "stream",
     "text": [
      "Your pay is: 475.0\n"
     ]
    }
   ],
   "source": [
    "#assign values and calculates\n",
    "compute_pay(45,10)"
   ]
  },
  {
   "cell_type": "code",
   "execution_count": 11,
   "id": "a8dfb5bf-c0ab-451a-8a4e-192f3cdd14f7",
   "metadata": {},
   "outputs": [
    {
     "name": "stdout",
     "output_type": "stream",
     "text": [
      "Your pay is: 475.0\n"
     ]
    }
   ],
   "source": [
    "#assign values and calculates\n",
    "compute_pay(hours=45,rate=10)"
   ]
  },
  {
   "cell_type": "code",
   "execution_count": 13,
   "id": "33261d25-c452-47f5-8c58-4c0d310b880c",
   "metadata": {},
   "outputs": [],
   "source": [
    "####better - just compile the function\n",
    "def compute_pay(hours, rate):\n",
    "    try:\n",
    "        hours = float(hours)\n",
    "        rate = float(rate)\n",
    "        if hours > 40:\n",
    "            pay = (hours-40)*1.5*rate + 40*rate\n",
    "        else:\n",
    "            pay = hours * rate\n",
    "    \n",
    "        print(f\"Your pay is: {pay}\")\n",
    "        return pay\n",
    "    except:\n",
    "        print(\"The inputs must be numeric values\")"
   ]
  },
  {
   "cell_type": "code",
   "execution_count": 16,
   "id": "794c7a2f-5180-4769-8dd0-6e3d234aca00",
   "metadata": {},
   "outputs": [
    {
     "name": "stdout",
     "output_type": "stream",
     "text": [
      "Your pay is: 475.0\n",
      "<class 'float'>\n",
      "475.0\n"
     ]
    }
   ],
   "source": [
    "pay = compute_pay(hours=45,rate=10)\n",
    "print(type(pay))\n",
    "print(pay)"
   ]
  },
  {
   "cell_type": "markdown",
   "id": "40b7b434",
   "metadata": {},
   "source": [
    "Exercise 7: Rewrite the grade program from the previous chapter using\n",
    "a function called computegrade that takes a score as its parameter and\n",
    "returns a grade as a string.\n",
    "Score Grade\n",
    ">= 0.9 A\n",
    ">= 0.8 B\n",
    ">= 0.7 C\n",
    ">= 0.6 D\n",
    "< 0.6 F\n",
    "Enter score: 0.95\n",
    "A\n",
    "Enter score: perfect\n",
    "Bad score\n",
    "4.14. EXERCISES 55\n",
    "Enter score: 10.0\n",
    "Bad score\n",
    "Enter score: 0.75\n",
    "C\n",
    "Enter score: 0.5\n",
    "F\n",
    "Run the program repeatedly to test the various different values for input."
   ]
  },
  {
   "cell_type": "code",
   "execution_count": 7,
   "id": "2bf49147-3884-4b94-85ed-0b36e54695c0",
   "metadata": {},
   "outputs": [
    {
     "name": "stdin",
     "output_type": "stream",
     "text": [
      "What is your score?\n",
      " ball\n"
     ]
    },
    {
     "name": "stdout",
     "output_type": "stream",
     "text": [
      "Bad Score\n"
     ]
    }
   ],
   "source": [
    "def computegrade():\n",
    "    try:\n",
    "        score = float(input(\"What is your score?\\n\"))\n",
    "        if score < 0:\n",
    "            print(\"Score needs to be between 0 and 1\")\n",
    "        elif score > 1:\n",
    "            print(\"Score needs to be between 0 and 1\")\n",
    "        elif score >= 0.9:\n",
    "            print(\"A\")\n",
    "        elif score >= 0.8:\n",
    "            print(\"B\")\n",
    "        elif score >= 0.7:\n",
    "            print(\"C\")\n",
    "        elif score >= 0.6:\n",
    "            print(\"D\")\n",
    "        else:\n",
    "            print(\"F\")\n",
    "    except:\n",
    "        print(\"Bad Score\")\n",
    "\n",
    "computegrade()"
   ]
  },
  {
   "cell_type": "code",
   "execution_count": 19,
   "id": "6ff42445-7c4d-434a-b4a4-3213b300dae4",
   "metadata": {},
   "outputs": [],
   "source": [
    "def compute_grade(score):\n",
    "    try:\n",
    "        score = float(score)\n",
    "        if score < 0:\n",
    "            print(\"Score needs to be between 0 and 1\")\n",
    "        elif score > 1:\n",
    "            print(\"Score needs to be between 0 and 1\")\n",
    "        elif score >= 0.9:\n",
    "            print(\"A\")\n",
    "        elif score >= 0.8:\n",
    "            print(\"B\")\n",
    "        elif score >= 0.7:\n",
    "            print(\"C\")\n",
    "        elif score >= 0.6:\n",
    "            print(\"D\")\n",
    "        else:\n",
    "            print(\"F\")\n",
    "    except:\n",
    "        print(\"Bad Score\")"
   ]
  },
  {
   "cell_type": "code",
   "execution_count": 20,
   "id": "fc94cc89-452e-4feb-bac1-98d53e431813",
   "metadata": {},
   "outputs": [
    {
     "name": "stdout",
     "output_type": "stream",
     "text": [
      "Score needs to be between 0 and 1\n"
     ]
    }
   ],
   "source": [
    "compute_grade(-1)"
   ]
  },
  {
   "cell_type": "code",
   "execution_count": 21,
   "id": "c5c63897-e092-45ee-b346-1ab95acbced2",
   "metadata": {},
   "outputs": [
    {
     "name": "stdout",
     "output_type": "stream",
     "text": [
      "Score needs to be between 0 and 1\n"
     ]
    }
   ],
   "source": [
    "compute_grade(5)"
   ]
  },
  {
   "cell_type": "code",
   "execution_count": 22,
   "id": "847a621a-8e23-4714-a928-9a21437e61b3",
   "metadata": {},
   "outputs": [
    {
     "name": "stdout",
     "output_type": "stream",
     "text": [
      "F\n"
     ]
    }
   ],
   "source": [
    "compute_grade(0.5)"
   ]
  },
  {
   "cell_type": "code",
   "execution_count": null,
   "id": "8c51cace-439b-4211-8906-f9be613f5eb2",
   "metadata": {},
   "outputs": [],
   "source": []
  }
 ],
 "metadata": {
  "kernelspec": {
   "display_name": "Python 3 (ipykernel)",
   "language": "python",
   "name": "python3"
  },
  "language_info": {
   "codemirror_mode": {
    "name": "ipython",
    "version": 3
   },
   "file_extension": ".py",
   "mimetype": "text/x-python",
   "name": "python",
   "nbconvert_exporter": "python",
   "pygments_lexer": "ipython3",
   "version": "3.12.1"
  }
 },
 "nbformat": 4,
 "nbformat_minor": 5
}
